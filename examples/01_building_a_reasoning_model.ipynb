{
 "cells": [
  {
   "cell_type": "markdown",
   "metadata": {},
   "source": [
    "Below is an example recipe for training a model with reasoning traces, to become a \"thinking model\". In this example, we utilize Microsoft's `Phi-4-mini-instruct` and NVIDIA's Nemotron Post-Training Dataset for reasoning/non-reasoning traces."
   ]
  },
  {
   "cell_type": "markdown",
   "metadata": {},
   "source": [
    "# SFT: Warm Start for Reasoning\n",
    "\n",
    "The first step in this process is to introduce Phi-4-mini-instruct to the structure and style of thought, in multiple contexts. We also want to keep the Nemotron method of reasoning-toggle-via-system-prompt, so we need the model to see examples of reasoning and non-reasoning responses, with detailed thinking on and detailed thinking off as corresponding system prompts.\n"
   ]
  },
  {
   "cell_type": "markdown",
   "metadata": {},
   "source": [
    "## Data Preparation\n",
    "\n",
    "To accomplish this, we use the open source Nemotron Post-Training Dataset, but it cannot be used as-is. The dataset is specific to Llama, and includes 15 million samples (most of which were unused in Nemotron training), so we will convert and filter the dataset to a more digestible messages-format set of samples, usable by any model. We start by loading the dataset via Huggingface Datasets:"
   ]
  },
  {
   "cell_type": "code",
   "execution_count": null,
   "metadata": {},
   "outputs": [],
   "source": [
    "from datasets import load_dataset, concatenate_datasets\n",
    "\n",
    "dataset = load_dataset(\"nvidia/Llama-Nemotron-Post-Training-Dataset-v1\")"
   ]
  },
  {
   "cell_type": "markdown",
   "metadata": {},
   "source": [
    "We then take each category in the SFT data subset, and generalize the samples used in Nemotron training:"
   ]
  },
  {
   "cell_type": "code",
   "execution_count": null,
   "metadata": {},
   "outputs": [],
   "source": [
    "def generalize_sample(sample):\n",
    "    user = sample[\"input\"].split(\"user<|end_header_id|>\\n\\n\")[1].split(\"<|eot_id|>\")[0]\n",
    "    assistant = sample[\"output\"].replace(\"<|eot_id|>\", \"\")\n",
    "    message_list = [\n",
    "        {\"role\": \"system\", \"content\": f\"detailed thinking {sample['reasoning']}\"},\n",
    "        {\"role\": \"user\", \"content\": user},\n",
    "        {\"role\": \"assistant\", \"content\": assistant},\n",
    "    ]\n",
    "    return {\"messages\": message_list}\n",
    "\n",
    "\n",
    "generic_samples_datasets = []\n",
    "for split in dataset.keys():\n",
    "    print(f\"Processing {split} samples\")\n",
    "    new_split = dataset[split].filter(\n",
    "        lambda sample: sample[\"used_in_training\"] == \"yes\", num_proc=8\n",
    "    )\n",
    "    print(f\"Adding {len(new_split)} samples\")\n",
    "    new_samples = new_split.map(\n",
    "        generalize_sample, remove_columns=list(new_split[0].keys()), num_proc=8\n",
    "    )\n",
    "    generic_samples_datasets.append(new_samples)\n",
    "    print(\"Samples added\\n\")"
   ]
  },
  {
   "cell_type": "markdown",
   "metadata": {},
   "source": [
    "Once we’ve got all of our reduced, generalized samples, we can re-combine them into a single dataset and save as a jsonl:"
   ]
  },
  {
   "cell_type": "code",
   "execution_count": null,
   "metadata": {},
   "outputs": [],
   "source": [
    "print(\"Writing generic messages-format data\")\n",
    "generic_samples = concatenate_datasets(generic_samples_datasets)\n",
    "print(generic_samples)\n",
    "generic_samples.to_json(\"nemotron.jsonl\", lines=True, orient=\"records\", num_proc=8)\n",
    "print(\"Write complete!\")"
   ]
  },
  {
   "cell_type": "markdown",
   "metadata": {},
   "source": [
    "This leaves us with 1.7 million samples of math, science, code, chat, and safety. This includes examples with and without detailed reasoning. With this file, we are ready to start SFT.\n",
    "\n",
    "## Fine-Tuning\n",
    "\n",
    "For fine-tuning, we use the Instructlab Training library, built for optimal and efficient fine-tuning on any messages-format data. Using the python interface, we are able to launch the model training.\n",
    "\n",
    "In this case, we ensure that we install off of main, to get the latest generic Causal LM support:"
   ]
  },
  {
   "cell_type": "code",
   "execution_count": null,
   "metadata": {},
   "outputs": [],
   "source": [
    "! pip install git+https://github.com/instructlab/training.git@main"
   ]
  },
  {
   "cell_type": "markdown",
   "metadata": {},
   "source": [
    "We start by importing the necessary pieces from the library:"
   ]
  },
  {
   "cell_type": "code",
   "execution_count": null,
   "metadata": {},
   "outputs": [],
   "source": [
    "from instructlab.training.config import (\n",
    "    TorchrunArgs,\n",
    "    TrainingArgs,\n",
    "    DistributedBackend,\n",
    "    FSDPOptions,\n",
    ")\n",
    "from instructlab.training.main_ds import run_training"
   ]
  },
  {
   "cell_type": "markdown",
   "metadata": {},
   "source": [
    "We then define our distributed settings via TorchrunArgs. In our case, we trained on a single node with 8 H100 GPUs:"
   ]
  },
  {
   "cell_type": "code",
   "execution_count": null,
   "metadata": {},
   "outputs": [],
   "source": [
    "torch_args = TorchrunArgs(\n",
    "    nproc_per_node=8,\n",
    "    nnodes=1,\n",
    "    node_rank=0,\n",
    "    rdzv_id=123,\n",
    "    rdzv_endpoint=\"0.0.0.0:8888\",\n",
    ")"
   ]
  },
  {
   "cell_type": "markdown",
   "metadata": {},
   "source": [
    "We then set our model and data paths, checkpoint output path, and hyperparameters via the TrainingArgs object:"
   ]
  },
  {
   "cell_type": "code",
   "execution_count": null,
   "metadata": {},
   "outputs": [],
   "source": [
    "train_args = TrainingArgs(\n",
    "    model_path=\"microsoft/Phi-4-mini-instruct\",\n",
    "    data_path=\"nemotron.jsonl\",\n",
    "    ckpt_output_dir=\"experiments/training_output\",\n",
    "    data_output_dir=\"data/processed-data\",  # processed data ids/labels/masks\n",
    "    max_seq_len=20000,\n",
    "    max_batch_len=30000,  # max tokens per gpu\n",
    "    num_epochs=3,\n",
    "    effective_batch_size=256,  # target batch size per model update\n",
    "    learning_rate=2e-5,\n",
    "    warmup_steps=25,\n",
    "    save_samples=0,  # save ckpt after num of samples seen (0=off)\n",
    "    checkpoint_at_epoch=True,  # save ckpt after every epoch\n",
    "    accelerate_full_state_at_epoch=False,  # save full-state for resuming\n",
    "    process_data=True,  # can set to false if data processed before\n",
    "    distributed_backend=DistributedBackend.FSDP,\n",
    "    fsdp_options=FSDPOptions(cpu_offload_params=False),\n",
    ")"
   ]
  },
  {
   "cell_type": "markdown",
   "metadata": {},
   "source": [
    "Finally, we kick off SFT via the run_training function:"
   ]
  },
  {
   "cell_type": "code",
   "execution_count": null,
   "metadata": {},
   "outputs": [],
   "source": [
    "run_training(torch_args=torch_args, train_args=train_args)"
   ]
  },
  {
   "cell_type": "markdown",
   "metadata": {},
   "source": [
    "Upon completion, we have n (n=num_epochs) Huggingface-Format checkpoints in `experiments/training_output/hf_format`. The full run logs and metrics will also be recorded in `experiments/training_output`. Running the final training as a python script rather than in a notebook may help with progress bar writing to stdout."
   ]
  }
 ],
 "metadata": {
  "kernelspec": {
   "display_name": "lora-test",
   "language": "python",
   "name": "python3"
  },
  "language_info": {
   "name": "python",
   "version": "3.11.9"
  }
 },
 "nbformat": 4,
 "nbformat_minor": 2
}
